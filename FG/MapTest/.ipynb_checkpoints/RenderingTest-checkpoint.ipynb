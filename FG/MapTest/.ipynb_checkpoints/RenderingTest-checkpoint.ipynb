{
 "cells": [
  {
   "cell_type": "markdown",
   "id": "42a49741-c397-442f-a0e8-7e8d45df772c",
   "metadata": {},
   "source": [
    "# Common Libraries"
   ]
  },
  {
   "cell_type": "code",
   "execution_count": 150,
   "id": "a3a678e0-d38d-4ac5-acca-e84ac15a2158",
   "metadata": {},
   "outputs": [],
   "source": [
    "import os\n",
    "import pandas as pd\n",
    "from datetime import datetime\n",
    "import matplotlib.pylab as plt"
   ]
  },
  {
   "cell_type": "markdown",
   "id": "0b0c2480-467a-4631-b823-2b9eb0433eb6",
   "metadata": {},
   "source": [
    "# Constants"
   ]
  },
  {
   "cell_type": "code",
   "execution_count": 197,
   "id": "274b9e7e-4b07-4f65-ab99-dca2e573847b",
   "metadata": {},
   "outputs": [],
   "source": [
    "n_obj = 100"
   ]
  },
  {
   "cell_type": "markdown",
   "id": "9946d97a-a9ed-4a4d-a2bb-edef5e6787e5",
   "metadata": {},
   "source": [
    "# Paths"
   ]
  },
  {
   "cell_type": "code",
   "execution_count": 198,
   "id": "c61fcd95-4b23-4621-8d4f-003ab0f5b086",
   "metadata": {},
   "outputs": [],
   "source": [
    "fps_file_name_format = \"fps_n{n_obj}.csv\"\n",
    "rendering_file_name_format = \"rendering_performance_n{n_obj}.csv\"\n",
    "\n",
    "data_dir_path = \"/Users/seojin/Desktop/RenderingPerformance\"\n",
    "fps_file_path = os.path.join(data_dir_path, fps_file_name_format.format(n_obj = n_obj))\n",
    "rendering_file_path = os.path.join(data_dir_path, rendering_file_name_format.format(n_obj = n_obj))"
   ]
  },
  {
   "cell_type": "markdown",
   "id": "78f04970-58ad-4c36-907e-af4cd27910cd",
   "metadata": {},
   "source": [
    "# Load data"
   ]
  },
  {
   "cell_type": "code",
   "execution_count": 199,
   "id": "abd6bf99-ab4d-40da-8a43-7ec893c8ebcc",
   "metadata": {},
   "outputs": [],
   "source": [
    "fps = pd.read_csv(fps_file_path)\n",
    "fps[\"Time\"] = [datetime.fromisoformat(time.replace('Z', '+00:00')) for time in fps[\"Time\"]]\n",
    "\n",
    "rendering = pd.read_csv(rendering_file_path)\n",
    "rendering[\"Time\"] = [datetime.fromisoformat(time.replace('Z', '+00:00')) for time in rendering[\"Time\"]]"
   ]
  },
  {
   "cell_type": "code",
   "execution_count": 200,
   "id": "69761148-d97f-454a-9634-d56a46fc698c",
   "metadata": {},
   "outputs": [
    {
     "data": {
      "text/plain": [
       "(array([ 1.,  0.,  0.,  7.,  1.,  1.,  1.,  1.,  2., 43.]),\n",
       " array([21. , 27.9, 34.8, 41.7, 48.6, 55.5, 62.4, 69.3, 76.2, 83.1, 90. ]),\n",
       " <BarContainer object of 10 artists>)"
      ]
     },
     "execution_count": 200,
     "metadata": {},
     "output_type": "execute_result"
    },
    {
     "data": {
      "image/png": "[encoded data removed]",
      "text/plain": [
       "<Figure size 640x480 with 1 Axes>"
      ]
     },
     "metadata": {},
     "output_type": "display_data"
    }
   ],
   "source": [
    "plt.hist(fps[\"FPS\"][2:])"
   ]
  },
  {
   "cell_type": "code",
   "execution_count": 205,
   "id": "4f5e5ae2-5d5e-474f-bdeb-ebe603792f24",
   "metadata": {},
   "outputs": [
    {
     "data": {
      "text/plain": [
       "'fileSize: 242MB - #obj: 100'"
      ]
     },
     "execution_count": 205,
     "metadata": {},
     "output_type": "execute_result"
    }
   ],
   "source": [
    "rendering[rendering[\"EventType\"] == \"End entity loading\"][\"Description\"].iloc[0]"
   ]
  },
  {
   "cell_type": "code",
   "execution_count": 207,
   "id": "8aeb8dd7-62e6-45b5-b8ae-649d37250804",
   "metadata": {},
   "outputs": [
    {
     "data": {
      "text/plain": [
       "'nVertex per obj: 3205500'"
      ]
     },
     "execution_count": 207,
     "metadata": {},
     "output_type": "execute_result"
    }
   ],
   "source": [
    "rendering[rendering[\"EventType\"] == \"End calc vertex\"][\"Description\"].iloc[0]"
   ]
  },
  {
   "cell_type": "markdown",
   "id": "f7e76b8f-5a6b-4629-8b34-38aad68ed152",
   "metadata": {},
   "source": [
    "# Loading"
   ]
  },
  {
   "cell_type": "code",
   "execution_count": 189,
   "id": "ed9aaa5c-29b1-4e76-b8b2-7e243fbcda9d",
   "metadata": {},
   "outputs": [
    {
     "name": "stdout",
     "output_type": "stream",
     "text": [
      "Loading time: 2.386, fps: 83.66666666666667\n"
     ]
    }
   ],
   "source": [
    "load_start_t = rendering[rendering[\"EventType\"] == \"Start entity loading\"].iloc[0][\"Time\"]\n",
    "load_end_t = rendering[rendering[\"EventType\"] == \"End entity loading\"].iloc[0][\"Time\"]\n",
    "\n",
    "mean_load_fps = fps[(fps[\"Time\"] > load_start_t) & (fps[\"Time\"] < load_end_t)][\"FPS\"].mean()\n",
    "load_time = (load_end_t - load_start_t).total_seconds()\n",
    "print(f\"Loading time: {load_time}, fps: {mean_load_fps}\")"
   ]
  },
  {
   "cell_type": "markdown",
   "id": "ccaf3e6b-ee94-413b-b7ac-b4ad759901e2",
   "metadata": {},
   "source": [
    "# Rendering"
   ]
  },
  {
   "cell_type": "code",
   "execution_count": 167,
   "id": "300668cb-3644-496f-97f6-7b4102d66104",
   "metadata": {},
   "outputs": [
    {
     "name": "stdout",
     "output_type": "stream",
     "text": [
      "Loading time: 0.0, fps: nan\n"
     ]
    }
   ],
   "source": [
    "render_start_t = rendering[rendering[\"EventType\"] == \"Start entity rendering\"].iloc[0][\"Time\"]\n",
    "render_end_t = rendering[rendering[\"EventType\"] == \"End entity rendering\"].iloc[0][\"Time\"]\n",
    "\n",
    "mean_render_fps = fps[(fps[\"Time\"] > render_start_t) & (fps[\"Time\"] < render_end_t)][\"FPS\"].mean()\n",
    "rendering_time = (render_end_t - render_start_t).total_seconds()\n",
    "print(f\"Loading time: {rendering_time}, fps: {mean_render_fps}\")"
   ]
  },
  {
   "cell_type": "markdown",
   "id": "844c60e2-7eee-4b3f-b2b0-88564c73d7f6",
   "metadata": {},
   "source": [
    "# Rolling"
   ]
  },
  {
   "cell_type": "code",
   "execution_count": 168,
   "id": "9e9d5214-31f8-4bc5-9f37-5a51e8ecbad7",
   "metadata": {},
   "outputs": [
    {
     "name": "stdout",
     "output_type": "stream",
     "text": [
      "Rolling time: 5.998, fps: 89.66666666666667\n"
     ]
    }
   ],
   "source": [
    "left0_t = rendering[rendering[\"EventType\"] == \"Left(90)\"].iloc[0][\"Time\"]\n",
    "right0_t = rendering[rendering[\"EventType\"] == \"Right(90)\"].iloc[0][\"Time\"]\n",
    "\n",
    "mean_rolling_fps = fps[(fps[\"Time\"] > left0_t) & (fps[\"Time\"] < right0_t)][\"FPS\"].mean()\n",
    "rolling_time = (right0_t - left0_t).total_seconds()\n",
    "print(f\"Rolling time: {rolling_time}, fps: {mean_rolling_fps}\")"
   ]
  },
  {
   "cell_type": "code",
   "execution_count": null,
   "id": "14a33ebf-52ec-48e1-a87b-c6e995bc80ce",
   "metadata": {},
   "outputs": [],
   "source": []
  },
  {
   "cell_type": "code",
   "execution_count": null,
   "id": "df53df57-f39b-4601-8d41-e093e6dfedaa",
   "metadata": {},
   "outputs": [],
   "source": []
  }
 ],
 "metadata": {
  "kernelspec": {
   "display_name": "Python 3 (ipykernel)",
   "language": "python",
   "name": "python3"
  },
  "language_info": {
   "codemirror_mode": {
    "name": "ipython",
    "version": 3
   },
   "file_extension": ".py",
   "mimetype": "text/x-python",
   "name": "python",
   "nbconvert_exporter": "python",
   "pygments_lexer": "ipython3",
   "version": "3.12.4"
  }
 },
 "nbformat": 4,
 "nbformat_minor": 5
}
