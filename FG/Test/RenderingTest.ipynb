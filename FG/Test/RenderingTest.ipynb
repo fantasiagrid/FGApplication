{
 "cells": [
  {
   "cell_type": "markdown",
   "id": "42a49741-c397-442f-a0e8-7e8d45df772c",
   "metadata": {},
   "source": [
    "# Common Libraries"
   ]
  },
  {
   "cell_type": "code",
   "execution_count": 38,
   "id": "a3a678e0-d38d-4ac5-acca-e84ac15a2158",
   "metadata": {},
   "outputs": [],
   "source": [
    "import os\n",
    "import pandas as pd\n",
    "from datetime import datetime\n",
    "import matplotlib.pylab as plt"
   ]
  },
  {
   "cell_type": "markdown",
   "id": "0b0c2480-467a-4631-b823-2b9eb0433eb6",
   "metadata": {},
   "source": [
    "# Constants"
   ]
  },
  {
   "cell_type": "code",
   "execution_count": 76,
   "id": "274b9e7e-4b07-4f65-ab99-dca2e573847b",
   "metadata": {},
   "outputs": [],
   "source": [
    "n_obj = 50\n",
    "other = \"scale555\""
   ]
  },
  {
   "cell_type": "markdown",
   "id": "9946d97a-a9ed-4a4d-a2bb-edef5e6787e5",
   "metadata": {},
   "source": [
    "# Paths"
   ]
  },
  {
   "cell_type": "code",
   "execution_count": 77,
   "id": "c61fcd95-4b23-4621-8d4f-003ab0f5b086",
   "metadata": {},
   "outputs": [],
   "source": [
    "data_dir_path = \"/Users/seojin/Desktop/RenderingPerformance/20250527\"\n",
    "\n",
    "if other == \"\":\n",
    "    fps_file_name_format = \"_\".join([\"fps\", f\"n{n_obj}\"]) + \".csv\"\n",
    "    rendering_file_name_format = \"_\".join([\"rendering_performance\", f\"n{n_obj}\"]) + \".csv\"\n",
    "else:\n",
    "    fps_file_name_format = \"_\".join([\"fps\", f\"n{n_obj}\", other]) + \".csv\"\n",
    "    rendering_file_name_format = \"_\".join([\"rendering_performance\", f\"n{n_obj}\", other]) + \".csv\"\n",
    "\n",
    "fps_file_path = os.path.join(data_dir_path, fps_file_name_format.format(n_obj = n_obj))\n",
    "rendering_file_path = os.path.join(data_dir_path, rendering_file_name_format.format(n_obj = n_obj))"
   ]
  },
  {
   "cell_type": "markdown",
   "id": "78f04970-58ad-4c36-907e-af4cd27910cd",
   "metadata": {},
   "source": [
    "# Load data"
   ]
  },
  {
   "cell_type": "code",
   "execution_count": 78,
   "id": "abd6bf99-ab4d-40da-8a43-7ec893c8ebcc",
   "metadata": {},
   "outputs": [],
   "source": [
    "fps = pd.read_csv(fps_file_path)\n",
    "fps[\"Time\"] = [datetime.fromisoformat(time.replace('Z', '+00:00')) for time in fps[\"Time\"]]\n",
    "\n",
    "rendering = pd.read_csv(rendering_file_path)\n",
    "rendering[\"Time\"] = [datetime.fromisoformat(time.replace('Z', '+00:00')) for time in rendering[\"Time\"]]"
   ]
  },
  {
   "cell_type": "code",
   "execution_count": 79,
   "id": "69761148-d97f-454a-9634-d56a46fc698c",
   "metadata": {},
   "outputs": [
    {
     "data": {
      "text/plain": [
       "(array([ 1.,  1.,  0.,  0.,  2.,  0.,  0.,  2.,  3., 25.]),\n",
       " array([ 2. , 10.8, 19.6, 28.4, 37.2, 46. , 54.8, 63.6, 72.4, 81.2, 90. ]),\n",
       " <BarContainer object of 10 artists>)"
      ]
     },
     "execution_count": 79,
     "metadata": {},
     "output_type": "execute_result"
    },
    {
     "data": {
      "image/png": "[encoded data removed]",
      "text/plain": [
       "<Figure size 640x480 with 1 Axes>"
      ]
     },
     "metadata": {},
     "output_type": "display_data"
    }
   ],
   "source": [
    "plt.hist(fps[\"FPS\"][2:])"
   ]
  },
  {
   "cell_type": "code",
   "execution_count": 83,
   "id": "4f5e5ae2-5d5e-474f-bdeb-ebe603792f24",
   "metadata": {},
   "outputs": [
    {
     "data": {
      "text/plain": [
       "'fileSize: 125MB - #obj: 50'"
      ]
     },
     "execution_count": 83,
     "metadata": {},
     "output_type": "execute_result"
    }
   ],
   "source": [
    "rendering[rendering[\"EventType\"] == \"End entity loading\"][\"Description\"].iloc[0]"
   ]
  },
  {
   "cell_type": "code",
   "execution_count": 84,
   "id": "8aeb8dd7-62e6-45b5-b8ae-649d37250804",
   "metadata": {},
   "outputs": [
    {
     "data": {
      "text/plain": [
       "'total vertex: 1411100'"
      ]
     },
     "execution_count": 84,
     "metadata": {},
     "output_type": "execute_result"
    }
   ],
   "source": [
    "rendering[rendering[\"EventType\"] == \"End calc vertex\"][\"Description\"].iloc[0]"
   ]
  },
  {
   "cell_type": "markdown",
   "id": "f7e76b8f-5a6b-4629-8b34-38aad68ed152",
   "metadata": {},
   "source": [
    "# Loading"
   ]
  },
  {
   "cell_type": "code",
   "execution_count": 85,
   "id": "ed9aaa5c-29b1-4e76-b8b2-7e243fbcda9d",
   "metadata": {},
   "outputs": [
    {
     "name": "stdout",
     "output_type": "stream",
     "text": [
      "Loading time: 8.198, fps: 78.5\n"
     ]
    }
   ],
   "source": [
    "load_start_t = rendering[rendering[\"EventType\"] == \"Start entity loading\"].iloc[0][\"Time\"]\n",
    "load_end_t = rendering[rendering[\"EventType\"] == \"End entity loading\"].iloc[0][\"Time\"]\n",
    "\n",
    "mean_load_fps = fps[(fps[\"Time\"] > load_start_t) & (fps[\"Time\"] < load_end_t)][\"FPS\"].mean()\n",
    "load_time = (load_end_t - load_start_t).total_seconds()\n",
    "print(f\"Loading time: {load_time}, fps: {mean_load_fps}\")"
   ]
  },
  {
   "cell_type": "markdown",
   "id": "ccaf3e6b-ee94-413b-b7ac-b4ad759901e2",
   "metadata": {},
   "source": [
    "# Rendering"
   ]
  },
  {
   "cell_type": "code",
   "execution_count": 87,
   "id": "300668cb-3644-496f-97f6-7b4102d66104",
   "metadata": {},
   "outputs": [
    {
     "name": "stdout",
     "output_type": "stream",
     "text": [
      "Rendering time: 0.003, fps: nan\n"
     ]
    }
   ],
   "source": [
    "render_start_t = rendering[rendering[\"EventType\"] == \"Start entity rendering\"].iloc[0][\"Time\"]\n",
    "render_end_t = rendering[rendering[\"EventType\"] == \"End entity rendering\"].iloc[0][\"Time\"]\n",
    "\n",
    "mean_render_fps = fps[(fps[\"Time\"] > render_start_t) & (fps[\"Time\"] < render_end_t)][\"FPS\"].mean()\n",
    "rendering_time = (render_end_t - render_start_t).total_seconds()\n",
    "print(f\"Rendering time: {rendering_time}, fps: {mean_render_fps}\")"
   ]
  },
  {
   "cell_type": "markdown",
   "id": "844c60e2-7eee-4b3f-b2b0-88564c73d7f6",
   "metadata": {},
   "source": [
    "# Rolling"
   ]
  },
  {
   "cell_type": "code",
   "execution_count": 88,
   "id": "9e9d5214-31f8-4bc5-9f37-5a51e8ecbad7",
   "metadata": {},
   "outputs": [
    {
     "name": "stdout",
     "output_type": "stream",
     "text": [
      "Rolling time: 6.999, fps: 88.14285714285714\n"
     ]
    }
   ],
   "source": [
    "left0_t = rendering[rendering[\"EventType\"] == \"Left(90)\"].iloc[0][\"Time\"]\n",
    "right0_t = rendering[rendering[\"EventType\"] == \"Right(90)\"].iloc[0][\"Time\"]\n",
    "\n",
    "mean_rolling_fps = fps[(fps[\"Time\"] > left0_t) & (fps[\"Time\"] < right0_t)][\"FPS\"].mean()\n",
    "rolling_time = (right0_t - left0_t).total_seconds()\n",
    "print(f\"Rolling time: {rolling_time}, fps: {mean_rolling_fps}\")"
   ]
  },
  {
   "cell_type": "code",
   "execution_count": 89,
   "id": "1f9e5b2e-c7fa-4794-96ea-315973e18a0c",
   "metadata": {},
   "outputs": [
    {
     "data": {
      "text/html": [
       "<div>\n",
       "<style scoped>\n",
       "    .dataframe tbody tr th:only-of-type {\n",
       "        vertical-align: middle;\n",
       "    }\n",
       "\n",
       "    .dataframe tbody tr th {\n",
       "        vertical-align: top;\n",
       "    }\n",
       "\n",
       "    .dataframe thead th {\n",
       "        text-align: right;\n",
       "    }\n",
       "</style>\n",
       "<table border=\"1\" class=\"dataframe\">\n",
       "  <thead>\n",
       "    <tr style=\"text-align: right;\">\n",
       "      <th></th>\n",
       "      <th>Time</th>\n",
       "      <th>EventType</th>\n",
       "      <th>Description</th>\n",
       "    </tr>\n",
       "  </thead>\n",
       "  <tbody>\n",
       "    <tr>\n",
       "      <th>0</th>\n",
       "      <td>2025-05-27 12:22:05.737000+00:00</td>\n",
       "      <td>Start entity loading</td>\n",
       "      <td>NaN</td>\n",
       "    </tr>\n",
       "    <tr>\n",
       "      <th>1</th>\n",
       "      <td>2025-05-27 12:22:13.935000+00:00</td>\n",
       "      <td>End entity loading</td>\n",
       "      <td>fileSize: 125MB - #obj: 50</td>\n",
       "    </tr>\n",
       "    <tr>\n",
       "      <th>2</th>\n",
       "      <td>2025-05-27 12:22:13.935000+00:00</td>\n",
       "      <td>Start calc vertex</td>\n",
       "      <td>NaN</td>\n",
       "    </tr>\n",
       "    <tr>\n",
       "      <th>3</th>\n",
       "      <td>2025-05-27 12:22:14.731000+00:00</td>\n",
       "      <td>End calc vertex</td>\n",
       "      <td>total vertex: 1411100</td>\n",
       "    </tr>\n",
       "    <tr>\n",
       "      <th>4</th>\n",
       "      <td>2025-05-27 12:22:14.805000+00:00</td>\n",
       "      <td>Start entity rendering</td>\n",
       "      <td>NaN</td>\n",
       "    </tr>\n",
       "    <tr>\n",
       "      <th>5</th>\n",
       "      <td>2025-05-27 12:22:14.808000+00:00</td>\n",
       "      <td>End entity rendering</td>\n",
       "      <td>NaN</td>\n",
       "    </tr>\n",
       "    <tr>\n",
       "      <th>6</th>\n",
       "      <td>2025-05-27 12:22:19.803000+00:00</td>\n",
       "      <td>Left(90)</td>\n",
       "      <td>NaN</td>\n",
       "    </tr>\n",
       "    <tr>\n",
       "      <th>7</th>\n",
       "      <td>2025-05-27 12:22:20.802000+00:00</td>\n",
       "      <td>Left(90)</td>\n",
       "      <td>NaN</td>\n",
       "    </tr>\n",
       "    <tr>\n",
       "      <th>8</th>\n",
       "      <td>2025-05-27 12:22:26.802000+00:00</td>\n",
       "      <td>Right(90)</td>\n",
       "      <td>NaN</td>\n",
       "    </tr>\n",
       "    <tr>\n",
       "      <th>9</th>\n",
       "      <td>2025-05-27 12:22:27.802000+00:00</td>\n",
       "      <td>Right(90)</td>\n",
       "      <td>NaN</td>\n",
       "    </tr>\n",
       "  </tbody>\n",
       "</table>\n",
       "</div>"
      ],
      "text/plain": [
       "                              Time               EventType  \\\n",
       "0 2025-05-27 12:22:05.737000+00:00    Start entity loading   \n",
       "1 2025-05-27 12:22:13.935000+00:00      End entity loading   \n",
       "2 2025-05-27 12:22:13.935000+00:00       Start calc vertex   \n",
       "3 2025-05-27 12:22:14.731000+00:00         End calc vertex   \n",
       "4 2025-05-27 12:22:14.805000+00:00  Start entity rendering   \n",
       "5 2025-05-27 12:22:14.808000+00:00    End entity rendering   \n",
       "6 2025-05-27 12:22:19.803000+00:00                Left(90)   \n",
       "7 2025-05-27 12:22:20.802000+00:00                Left(90)   \n",
       "8 2025-05-27 12:22:26.802000+00:00               Right(90)   \n",
       "9 2025-05-27 12:22:27.802000+00:00               Right(90)   \n",
       "\n",
       "                  Description  \n",
       "0                         NaN  \n",
       "1  fileSize: 125MB - #obj: 50  \n",
       "2                         NaN  \n",
       "3       total vertex: 1411100  \n",
       "4                         NaN  \n",
       "5                         NaN  \n",
       "6                         NaN  \n",
       "7                         NaN  \n",
       "8                         NaN  \n",
       "9                         NaN  "
      ]
     },
     "execution_count": 89,
     "metadata": {},
     "output_type": "execute_result"
    }
   ],
   "source": [
    "rendering"
   ]
  },
  {
   "cell_type": "code",
   "execution_count": null,
   "id": "14a33ebf-52ec-48e1-a87b-c6e995bc80ce",
   "metadata": {},
   "outputs": [],
   "source": []
  },
  {
   "cell_type": "code",
   "execution_count": null,
   "id": "df53df57-f39b-4601-8d41-e093e6dfedaa",
   "metadata": {},
   "outputs": [],
   "source": []
  }
 ],
 "metadata": {
  "kernelspec": {
   "display_name": "Python 3 (ipykernel)",
   "language": "python",
   "name": "python3"
  },
  "language_info": {
   "codemirror_mode": {
    "name": "ipython",
    "version": 3
   },
   "file_extension": ".py",
   "mimetype": "text/x-python",
   "name": "python",
   "nbconvert_exporter": "python",
   "pygments_lexer": "ipython3",
   "version": "3.12.4"
  }
 },
 "nbformat": 4,
 "nbformat_minor": 5
}
